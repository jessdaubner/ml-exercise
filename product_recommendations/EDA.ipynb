{
 "cells": [
  {
   "cell_type": "code",
   "execution_count": 1,
   "metadata": {},
   "outputs": [
    {
     "name": "stdout",
     "output_type": "stream",
     "text": [
      "INFO | APP_DIR set to .\n"
     ]
    }
   ],
   "source": [
    "import pandas as pd\n",
    "from ml_metrics import mapk\n",
    "from config import RAW_DATA"
   ]
  },
  {
   "cell_type": "code",
   "execution_count": 2,
   "metadata": {},
   "outputs": [],
   "source": [
    "raw_transactions = pd.read_csv(RAW_DATA)"
   ]
  },
  {
   "cell_type": "code",
   "execution_count": 3,
   "metadata": {},
   "outputs": [
    {
     "data": {
      "text/plain": [
       "(1215193, 8)"
      ]
     },
     "execution_count": 3,
     "metadata": {},
     "output_type": "execute_result"
    }
   ],
   "source": [
    "N_ROWS = raw_transactions.shape[0]\n",
    "raw_transactions.shape"
   ]
  },
  {
   "cell_type": "code",
   "execution_count": 4,
   "metadata": {},
   "outputs": [
    {
     "data": {
      "text/plain": [
       "customer_id              int64\n",
       "item_text               object\n",
       "brand_name              object\n",
       "cat1                    object\n",
       "cat2                    object\n",
       "cat3                    object\n",
       "global_product_id      float64\n",
       "global_product_name     object\n",
       "dtype: object"
      ]
     },
     "execution_count": 4,
     "metadata": {},
     "output_type": "execute_result"
    }
   ],
   "source": [
    "raw_transactions.dtypes"
   ]
  },
  {
   "cell_type": "code",
   "execution_count": 5,
   "metadata": {},
   "outputs": [
    {
     "data": {
      "text/html": [
       "<div>\n",
       "<style scoped>\n",
       "    .dataframe tbody tr th:only-of-type {\n",
       "        vertical-align: middle;\n",
       "    }\n",
       "\n",
       "    .dataframe tbody tr th {\n",
       "        vertical-align: top;\n",
       "    }\n",
       "\n",
       "    .dataframe thead th {\n",
       "        text-align: right;\n",
       "    }\n",
       "</style>\n",
       "<table border=\"1\" class=\"dataframe\">\n",
       "  <thead>\n",
       "    <tr style=\"text-align: right;\">\n",
       "      <th></th>\n",
       "      <th>customer_id</th>\n",
       "      <th>item_text</th>\n",
       "      <th>brand_name</th>\n",
       "      <th>cat1</th>\n",
       "      <th>cat2</th>\n",
       "      <th>cat3</th>\n",
       "      <th>global_product_id</th>\n",
       "      <th>global_product_name</th>\n",
       "    </tr>\n",
       "  </thead>\n",
       "  <tbody>\n",
       "    <tr>\n",
       "      <th>0</th>\n",
       "      <td>16899288</td>\n",
       "      <td>SOUTHSIDE JAL CHDR SAUSAG</td>\n",
       "      <td>oscar mayer</td>\n",
       "      <td>meat seafood  poultry</td>\n",
       "      <td>hot dogs</td>\n",
       "      <td>hot dogs</td>\n",
       "      <td>749534.0</td>\n",
       "      <td>hot dogs</td>\n",
       "    </tr>\n",
       "    <tr>\n",
       "      <th>1</th>\n",
       "      <td>10356736</td>\n",
       "      <td>PREMIUM BLACK PLUM</td>\n",
       "      <td>generic produce</td>\n",
       "      <td>produce</td>\n",
       "      <td>fruits</td>\n",
       "      <td>plumspluots</td>\n",
       "      <td>154803.0</td>\n",
       "      <td>fresh plums</td>\n",
       "    </tr>\n",
       "    <tr>\n",
       "      <th>2</th>\n",
       "      <td>13867598</td>\n",
       "      <td>GV DRESSING</td>\n",
       "      <td>great value</td>\n",
       "      <td>condiments sauces  seasonings</td>\n",
       "      <td>salad dressings</td>\n",
       "      <td>salad dressings</td>\n",
       "      <td>744331.0</td>\n",
       "      <td>great value thousand island dressing</td>\n",
       "    </tr>\n",
       "    <tr>\n",
       "      <th>3</th>\n",
       "      <td>566298</td>\n",
       "      <td>BARILLA RP ELBOWS</td>\n",
       "      <td>barilla</td>\n",
       "      <td>grains  pasta</td>\n",
       "      <td>pasta</td>\n",
       "      <td>pasta</td>\n",
       "      <td>NaN</td>\n",
       "      <td>NaN</td>\n",
       "    </tr>\n",
       "    <tr>\n",
       "      <th>4</th>\n",
       "      <td>5381591</td>\n",
       "      <td>NaN</td>\n",
       "      <td>generic ice</td>\n",
       "      <td>frozen foods</td>\n",
       "      <td>ice</td>\n",
       "      <td>ice</td>\n",
       "      <td>148374.0</td>\n",
       "      <td>ice</td>\n",
       "    </tr>\n",
       "  </tbody>\n",
       "</table>\n",
       "</div>"
      ],
      "text/plain": [
       "   customer_id                  item_text       brand_name  \\\n",
       "0     16899288  SOUTHSIDE JAL CHDR SAUSAG      oscar mayer   \n",
       "1     10356736         PREMIUM BLACK PLUM  generic produce   \n",
       "2     13867598                GV DRESSING      great value   \n",
       "3       566298          BARILLA RP ELBOWS          barilla   \n",
       "4      5381591                        NaN      generic ice   \n",
       "\n",
       "                            cat1             cat2             cat3  \\\n",
       "0          meat seafood  poultry         hot dogs         hot dogs   \n",
       "1                        produce           fruits      plumspluots   \n",
       "2  condiments sauces  seasonings  salad dressings  salad dressings   \n",
       "3                  grains  pasta            pasta            pasta   \n",
       "4                   frozen foods              ice              ice   \n",
       "\n",
       "   global_product_id                   global_product_name  \n",
       "0           749534.0                              hot dogs  \n",
       "1           154803.0                           fresh plums  \n",
       "2           744331.0  great value thousand island dressing  \n",
       "3                NaN                                   NaN  \n",
       "4           148374.0                                   ice  "
      ]
     },
     "execution_count": 5,
     "metadata": {},
     "output_type": "execute_result"
    }
   ],
   "source": [
    "raw_transactions.head()"
   ]
  },
  {
   "cell_type": "code",
   "execution_count": 6,
   "metadata": {},
   "outputs": [],
   "source": [
    "def describe_features(df):\n",
    "    for column_name in df.columns:\n",
    "        print(column_name.upper())\n",
    "        print('Unique Values: {:,}'.format(len(df[column_name].unique())))\n",
    "        print('Missing values: {}%'.format(round((df[column_name].isna().sum()/N_ROWS)*100, 2)))\n",
    "        print('Modal Value: {}'.format(df[column_name].mode()[0]))\n",
    "        print('\\n')"
   ]
  },
  {
   "cell_type": "code",
   "execution_count": 7,
   "metadata": {},
   "outputs": [
    {
     "name": "stdout",
     "output_type": "stream",
     "text": [
      "CUSTOMER_ID\n",
      "Unique Values: 6,996\n",
      "Missing values: 0.0%\n",
      "Modal Value: 16091073\n",
      "\n",
      "\n",
      "ITEM_TEXT\n",
      "Unique Values: 237,636\n",
      "Missing values: 34.63%\n",
      "Modal Value: \\N\n",
      "\n",
      "\n",
      "BRAND_NAME\n",
      "Unique Values: 6,547\n",
      "Missing values: 12.47%\n",
      "Modal Value: generic produce\n",
      "\n",
      "\n",
      "CAT1\n",
      "Unique Values: 53\n",
      "Missing values: 17.55%\n",
      "Modal Value: produce\n",
      "\n",
      "\n",
      "CAT2\n",
      "Unique Values: 250\n",
      "Missing values: 18.93%\n",
      "Modal Value: fruits\n",
      "\n",
      "\n",
      "CAT3\n",
      "Unique Values: 446\n",
      "Missing values: 19.27%\n",
      "Modal Value: bread\n",
      "\n",
      "\n",
      "GLOBAL_PRODUCT_ID\n",
      "Unique Values: 90,543\n",
      "Missing values: 25.71%\n",
      "Modal Value: 934387.0\n",
      "\n",
      "\n",
      "GLOBAL_PRODUCT_NAME\n",
      "Unique Values: 76,149\n",
      "Missing values: 25.75%\n",
      "Modal Value: no info\n",
      "\n",
      "\n"
     ]
    }
   ],
   "source": [
    "describe_features(raw_transactions)"
   ]
  },
  {
   "cell_type": "code",
   "execution_count": 8,
   "metadata": {},
   "outputs": [],
   "source": [
    "raw_transactions = raw_transactions.dropna(subset=['global_product_id'], axis=0)\n",
    "raw_transactions['global_product_id'] = raw_transactions['global_product_id'].astype(int)"
   ]
  },
  {
   "cell_type": "markdown",
   "metadata": {},
   "source": [
    "### Examining `customer_id` 14687389"
   ]
  },
  {
   "cell_type": "code",
   "execution_count": 9,
   "metadata": {},
   "outputs": [],
   "source": [
    "customer_purchases = raw_transactions.loc[raw_transactions['customer_id'] == 14687389]"
   ]
  },
  {
   "cell_type": "code",
   "execution_count": 10,
   "metadata": {},
   "outputs": [],
   "source": [
    "observed_purchases = customer_purchases['global_product_id'].value_counts().index\n",
    "observed_purchases = [int(product_id) for product_id in observed_purchases]"
   ]
  },
  {
   "cell_type": "code",
   "execution_count": 12,
   "metadata": {},
   "outputs": [],
   "source": [
    "predictions = [934387, 156309, 156322, 156329, 155230, 148407, 148695, 148680, 152459, 148789]"
   ]
  },
  {
   "cell_type": "code",
   "execution_count": 13,
   "metadata": {},
   "outputs": [
    {
     "data": {
      "text/plain": [
       "[148680, 152459, 148789, 148407]"
      ]
     },
     "execution_count": 13,
     "metadata": {},
     "output_type": "execute_result"
    }
   ],
   "source": [
    "pred_list = [predictions]\n",
    "observed_list = [observed_purchases]\n",
    "new_products = list(set(predictions).difference(set(observed_purchases)))\n",
    "new_products"
   ]
  },
  {
   "cell_type": "code",
   "execution_count": 14,
   "metadata": {},
   "outputs": [
    {
     "name": "stdout",
     "output_type": "stream",
     "text": [
      "Mean Average Precision: 0.59\n",
      "Observed vs. Recommendations:\n",
      "934387 934387\n",
      "503329 156309\n",
      "156322 156322\n",
      "156309 156329\n",
      "155230 155230\n",
      "723245 148407\n",
      "156313 148695\n",
      "503480 148680\n",
      "1029216 152459\n",
      "872213 148789\n"
     ]
    }
   ],
   "source": [
    "mean_avg_precision = mapk(observed_list, pred_list)\n",
    "print(f\"Mean Average Precision: {mean_avg_precision:.2f}\")\n",
    "print(f\"Observed vs. Recommendations:\")\n",
    "for a,p in zip(observed_purchases, predictions):\n",
    "    print(a, p)"
   ]
  },
  {
   "cell_type": "code",
   "execution_count": 22,
   "metadata": {},
   "outputs": [],
   "source": [
    "purchased_categories = customer_purchases[['cat3']].drop_duplicates()\n",
    "purchased_categories = set(purchased_categories['cat3'].tolist())"
   ]
  },
  {
   "cell_type": "code",
   "execution_count": 26,
   "metadata": {},
   "outputs": [],
   "source": [
    "purchase_data = raw_transactions[['global_product_id', 'cat1', 'cat2', 'cat3']].dropna()\n",
    "new_product_categories_df = (purchase_data.loc[purchase_data['global_product_id'].isin(new_products)]\n",
    ".drop_duplicates()\n",
    ".sort_values(by=['global_product_id']))\n",
    "new_product_categories = set(new_product_categories_df['cat3'].tolist())"
   ]
  },
  {
   "cell_type": "code",
   "execution_count": 27,
   "metadata": {},
   "outputs": [
    {
     "data": {
      "text/plain": [
       "{'avocado', 'cucumber'}"
      ]
     },
     "execution_count": 27,
     "metadata": {},
     "output_type": "execute_result"
    }
   ],
   "source": [
    "new_product_categories.difference(purchased_categories)"
   ]
  }
 ],
 "metadata": {
  "kernelspec": {
   "display_name": "Python 3",
   "language": "python",
   "name": "python3"
  },
  "language_info": {
   "codemirror_mode": {
    "name": "ipython",
    "version": 3
   },
   "file_extension": ".py",
   "mimetype": "text/x-python",
   "name": "python",
   "nbconvert_exporter": "python",
   "pygments_lexer": "ipython3",
   "version": "3.7.2"
  }
 },
 "nbformat": 4,
 "nbformat_minor": 2
}
